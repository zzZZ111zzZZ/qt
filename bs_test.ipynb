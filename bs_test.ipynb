{
 "cells": [
  {
   "cell_type": "code",
   "execution_count": 1,
   "metadata": {},
   "outputs": [
    {
     "name": "stdout",
     "output_type": "stream",
     "text": [
      "login success!\n",
      "login respond error_code:0\n",
      "login respond  error_msg:success\n",
      "query_history_k_data_plus respond error_code:0\n",
      "query_history_k_data_plus respond  error_msg:success\n",
      "           date       code     open     high      low    close preclose  \\\n",
      "0    2024-07-01  sh.600000   8.2200   8.3000   8.2000   8.2800   8.2300   \n",
      "1    2024-07-02  sh.600000   8.2700   8.5400   8.2700   8.5300   8.2800   \n",
      "2    2024-07-03  sh.600000   8.5300   8.6000   8.4800   8.5300   8.5300   \n",
      "3    2024-07-04  sh.600000   8.5900   8.6300   8.4800   8.5000   8.5300   \n",
      "4    2024-07-05  sh.600000   8.5400   8.5500   8.2900   8.3400   8.5000   \n",
      "..          ...        ...      ...      ...      ...      ...      ...   \n",
      "120  2024-12-25  sh.600000  10.1300  10.3900  10.1300  10.3500  10.1300   \n",
      "121  2024-12-26  sh.600000  10.3500  10.3900  10.1600  10.3400  10.3500   \n",
      "122  2024-12-27  sh.600000  10.3300  10.3900  10.1200  10.3600  10.3400   \n",
      "123  2024-12-30  sh.600000  10.3400  10.4900  10.3100  10.4700  10.3600   \n",
      "124  2024-12-31  sh.600000  10.4300  10.5600  10.2800  10.2900  10.4700   \n",
      "\n",
      "       volume          amount adjustflag      turn tradestatus     pctChg isST  \n",
      "0    28732962  237294502.0600          3  0.097900           1   0.607500    0  \n",
      "1    57345810  485897423.6600          3  0.195400           1   3.019300    0  \n",
      "2    46409668  396512668.3500          3  0.158100           1   0.000000    0  \n",
      "3    44412066  379773335.1000          3  0.151300           1  -0.351700    0  \n",
      "4    51997018  436429580.8400          3  0.177100           1  -1.882400    0  \n",
      "..        ...             ...        ...       ...         ...        ...  ...  \n",
      "120  72739600  749135068.9400          3  0.247800           1   2.171800    0  \n",
      "121  61152236  628394286.5800          3  0.208300           1  -0.096600    0  \n",
      "122  69506374  714702133.5700          3  0.236800           1   0.193400    0  \n",
      "123  78477805  818657791.7100          3  0.267400           1   1.061800    0  \n",
      "124  57783443  602393523.1200          3  0.196900           1  -1.719200    0  \n",
      "\n",
      "[125 rows x 14 columns]\n",
      "logout success!\n"
     ]
    },
    {
     "data": {
      "text/plain": [
       "<baostock.data.resultset.ResultData at 0x1095ef610>"
      ]
     },
     "execution_count": 1,
     "metadata": {},
     "output_type": "execute_result"
    }
   ],
   "source": [
    "import baostock as bs\n",
    "import pandas as pd\n",
    "\n",
    "#### 登陆系统 ####\n",
    "lg = bs.login()\n",
    "# 显示登陆返回信息\n",
    "print('login respond error_code:'+lg.error_code)\n",
    "print('login respond  error_msg:'+lg.error_msg)\n",
    "\n",
    "#### 获取沪深A股历史K线数据 ####\n",
    "# 详细指标参数，参见“历史行情指标参数”章节；“分钟线”参数与“日线”参数不同。“分钟线”不包含指数。\n",
    "# 分钟线指标：date,time,code,open,high,low,close,volume,amount,adjustflag\n",
    "# 周月线指标：date,code,open,high,low,close,volume,amount,adjustflag,turn,pctChg\n",
    "rs = bs.query_history_k_data_plus(\"sh.600000\",\n",
    "    \"date,code,open,high,low,close,preclose,volume,amount,adjustflag,turn,tradestatus,pctChg,isST\",\n",
    "    start_date='2024-07-01', end_date='2024-12-31',\n",
    "    frequency=\"d\", adjustflag=\"3\")\n",
    "print('query_history_k_data_plus respond error_code:'+rs.error_code)\n",
    "print('query_history_k_data_plus respond  error_msg:'+rs.error_msg)\n",
    "\n",
    "#### 打印结果集 ####\n",
    "data_list = []\n",
    "while (rs.error_code == '0') & rs.next():\n",
    "    # 获取一条记录，将记录合并在一起\n",
    "    data_list.append(rs.get_row_data())\n",
    "result = pd.DataFrame(data_list, columns=rs.fields)\n",
    "\n",
    "#### 结果集输出到csv文件 ####   \n",
    "result.to_csv(\"./history_A_stock_k_data.csv\", index=False)\n",
    "print(result)\n",
    "\n",
    "#### 登出系统 ####\n",
    "bs.logout()"
   ]
  },
  {
   "cell_type": "code",
   "execution_count": 2,
   "metadata": {},
   "outputs": [
    {
     "name": "stdout",
     "output_type": "stream",
     "text": [
      "login success!\n",
      "login respond error_code:0\n",
      "login respond  error_msg:success\n",
      "query_history_k_data_plus respond error_code:0\n",
      "query_history_k_data_plus respond  error_msg:success\n",
      "           date               time       code    open    high     low   close  \\\n",
      "0    2024-07-01  20240701093500000  sh.600000  8.2200  8.2600  8.2100  8.2300   \n",
      "1    2024-07-01  20240701094000000  sh.600000  8.2400  8.2400  8.2200  8.2400   \n",
      "2    2024-07-01  20240701094500000  sh.600000  8.2400  8.2500  8.2300  8.2400   \n",
      "3    2024-07-01  20240701095000000  sh.600000  8.2300  8.2400  8.2300  8.2300   \n",
      "4    2024-07-01  20240701095500000  sh.600000  8.2300  8.2600  8.2300  8.2500   \n",
      "..          ...                ...        ...     ...     ...     ...     ...   \n",
      "427  2024-07-11  20240711144000000  sh.600000  8.6100  8.6200  8.6000  8.6000   \n",
      "428  2024-07-11  20240711144500000  sh.600000  8.6000  8.6200  8.6000  8.6100   \n",
      "429  2024-07-11  20240711145000000  sh.600000  8.6100  8.6200  8.6100  8.6100   \n",
      "430  2024-07-11  20240711145500000  sh.600000  8.6100  8.6300  8.6000  8.6000   \n",
      "431  2024-07-11  20240711150000000  sh.600000  8.6000  8.6300  8.6000  8.6000   \n",
      "\n",
      "      volume         amount adjustflag  \n",
      "0    1396900  11516198.0000          3  \n",
      "1     552800   4551811.0000          3  \n",
      "2     637000   5247083.0000          3  \n",
      "3     526000   4331764.0000          3  \n",
      "4     872200   7194432.0000          3  \n",
      "..       ...            ...        ...  \n",
      "427   667100   5741632.0000          3  \n",
      "428   723300   6228992.0000          3  \n",
      "429   608100   5239072.0000          3  \n",
      "430  1168600  10074400.0000          3  \n",
      "431  1467900  12629344.0000          3  \n",
      "\n",
      "[432 rows x 10 columns]\n",
      "logout success!\n"
     ]
    },
    {
     "data": {
      "text/plain": [
       "<baostock.data.resultset.ResultData at 0x10979c050>"
      ]
     },
     "execution_count": 2,
     "metadata": {},
     "output_type": "execute_result"
    }
   ],
   "source": [
    "import baostock as bs\n",
    "import pandas as pd\n",
    "\n",
    "#### 登陆系统 ####\n",
    "lg = bs.login()\n",
    "# 显示登陆返回信息\n",
    "print('login respond error_code:'+lg.error_code)\n",
    "print('login respond  error_msg:'+lg.error_msg)\n",
    "\n",
    "#### 获取沪深A股历史K线数据 ####\n",
    "# 详细指标参数，参见“历史行情指标参数”章节；“分钟线”参数与“日线”参数不同。“分钟线”不包含指数。\n",
    "# 分钟线指标：date,time,code,open,high,low,close,volume,amount,adjustflag\n",
    "# 周月线指标：date,code,open,high,low,close,volume,amount,adjustflag,turn,pctChg\n",
    "rs = bs.query_history_k_data_plus(\"sh.600000\",\n",
    "    \"date,time,code,open,high,low,close,volume,amount,adjustflag\",\n",
    "    start_date='2024-07-01', end_date='2024-07-11',\n",
    "    frequency=\"5\", adjustflag=\"3\")\n",
    "print('query_history_k_data_plus respond error_code:'+rs.error_code)\n",
    "print('query_history_k_data_plus respond  error_msg:'+rs.error_msg)\n",
    "\n",
    "#### 打印结果集 ####\n",
    "data_list = []\n",
    "while (rs.error_code == '0') & rs.next():\n",
    "    # 获取一条记录，将记录合并在一起\n",
    "    data_list.append(rs.get_row_data())\n",
    "result = pd.DataFrame(data_list, columns=rs.fields)\n",
    "\n",
    "#### 结果集输出到csv文件 ####   \n",
    "result.to_csv(\"./history_A_stock_k_data_5m.csv\", index=False)\n",
    "print(result)\n",
    "\n",
    "#### 登出系统 ####\n",
    "bs.logout()"
   ]
  },
  {
   "cell_type": "code",
   "execution_count": null,
   "metadata": {},
   "outputs": [
    {
     "data": {
      "application/vnd.jupyter.widget-view+json": {
       "model_id": "bf0eb5a14ae4456e8f48a051ecc722a0",
       "version_major": 2,
       "version_minor": 0
      },
      "text/plain": [
       "  0%|          | 0/14 [00:00<?, ?it/s]"
      ]
     },
     "metadata": {},
     "output_type": "display_data"
    },
    {
     "name": "stdout",
     "output_type": "stream",
     "text": [
      "        code   name\n",
      "0     000001   平安银行\n",
      "1     000002  万  科Ａ\n",
      "2     000004  *ST国华\n",
      "3     000006   深振业Ａ\n",
      "4     000007    全新好\n",
      "...      ...    ...\n",
      "5421  920445   龙竹科技\n",
      "5422  920489   佳先股份\n",
      "5423  920682   球冠电缆\n",
      "5424  920799   艾融软件\n",
      "5425  920819   颖泰生物\n",
      "\n",
      "[5426 rows x 2 columns]\n"
     ]
    }
   ],
   "source": [
    "# 参考：https://akshare.akfamily.xyz/data/stock/stock.html#id235\n",
    "# pip install ipywidgets\n",
    "# 终端中直接：\n",
    "# # 一次性安装 Jupyter 及 widgets 全套组件\n",
    "# pip install jupyter ipykernel ipywidgets jupyter_contrib_nbextensions\n",
    "\n",
    "import akshare as ak\n",
    "\n",
    "stock_info_a_code_name_df = ak.stock_info_a_code_name()\n",
    "print(stock_info_a_code_name_df)"
   ]
  },
  {
   "cell_type": "code",
   "execution_count": null,
   "metadata": {},
   "outputs": [],
   "source": []
  }
 ],
 "metadata": {
  "kernelspec": {
   "display_name": "qt",
   "language": "python",
   "name": "python3"
  },
  "language_info": {
   "codemirror_mode": {
    "name": "ipython",
    "version": 3
   },
   "file_extension": ".py",
   "mimetype": "text/x-python",
   "name": "python",
   "nbconvert_exporter": "python",
   "pygments_lexer": "ipython3",
   "version": "3.13.5"
  }
 },
 "nbformat": 4,
 "nbformat_minor": 2
}

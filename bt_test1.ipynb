{
 "cells": [
  {
   "cell_type": "code",
   "execution_count": 2,
   "metadata": {},
   "outputs": [
    {
     "name": "stdout",
     "output_type": "stream",
     "text": [
      "login success!\n",
      "                 open       high        low      close    volume  openinterest\n",
      "date                                                                          \n",
      "2020-01-02  1128.0000  1145.0600  1116.0000  1130.0000  14809916             0\n",
      "2020-01-03  1117.0000  1117.0000  1076.9000  1078.5600  13031878             0\n",
      "2020-01-06  1070.8600  1092.9000  1067.3000  1077.9900   6341478             0\n",
      "2020-01-07  1077.5000  1099.0000  1076.4000  1094.5300   4785359             0\n",
      "2020-01-08  1085.0500  1095.5000  1082.5800  1088.1400   2500825             0\n",
      "...               ...        ...        ...        ...       ...           ...\n",
      "2022-12-26  1771.0000  1771.0000  1735.0200  1742.0600   2138380             0\n",
      "2022-12-27  1738.0000  1747.1500  1725.5000  1733.0000   1790505             0\n",
      "2022-12-28  1745.8800  1747.0000  1708.0100  1733.0000   2143790             0\n",
      "2022-12-29  1717.0000  1726.9900  1701.0500  1719.0000   2241780             0\n",
      "2022-12-30  1736.0000  1752.9900  1727.0000  1727.0000   2533312             0\n",
      "\n",
      "[728 rows x 6 columns]\n"
     ]
    }
   ],
   "source": [
    "import pandas as pd\n",
    "from datetime import datetime\n",
    "import backtrader as bt\n",
    "import matplotlib.pyplot as plt\n",
    "from dataops import *\n",
    "\n",
    "plt.rcParams[\"font.sans-serif\"] = [\"SimHei\"]\n",
    "plt.rcParams[\"axes.unicode_minus\"] = False\n",
    "\n",
    "#step1: 数据加载\n",
    "start_date = \"2020-01-01\"\n",
    "end_date = \"2023-01-01\"\n",
    "def getdata(code = \"sh.600519\", start_date = start_date, end_date = end_date):\n",
    "    df = get_stock_data_from_baostock(code = code, start_date = start_date, end_date = end_date, login=False)\n",
    "    df.index = pd.to_datetime(df[\"date\"])\n",
    "    df[\"openinterest\"] = 0\n",
    "    df = df[[\"open\", \"high\", \"low\", \"close\", \"volume\", \"openinterest\"]]\n",
    "    print(df)\n",
    "\n",
    "stock_df = getdata()\n",
    "\n",
    "#加载并读取数据(bt固定写法)\n",
    "#dataname:数据df; fromdate:回测开始时间; todate:回测结束时间\n",
    "fromdate = datetime(2020, 1, 1)  #2020年1月1日，date格式\n",
    "todate = datetime(2023, 1, 1)\n",
    "data = bt.feeds.PandasData(dataname = stock_df, fromdate = fromdate, todate = todate)\n",
    "\n",
    "#step2: 构建策略\n",
    "#示例策略：上穿20日线买入，跌穿卖出\n",
    "class MyStrategy(bt.Strategy):\n",
    "     # 可变参数\n",
    "    params = (\n",
    "        (\"maperiod\", 20),\n",
    "    )\n",
    "\n",
    "    def __init__(self):\n",
    "\n",
    "    #每个bar都会执行一次next函数\n",
    "    def next(self):\n",
    "        # 判断当前是否有持仓\n",
    "        if(self.position)\n",
    "\n",
    "\n",
    "\n",
    "\n",
    "\n",
    "\n"
   ]
  }
 ],
 "metadata": {
  "kernelspec": {
   "display_name": "qt",
   "language": "python",
   "name": "python3"
  },
  "language_info": {
   "codemirror_mode": {
    "name": "ipython",
    "version": 3
   },
   "file_extension": ".py",
   "mimetype": "text/x-python",
   "name": "python",
   "nbconvert_exporter": "python",
   "pygments_lexer": "ipython3",
   "version": "3.13.5"
  }
 },
 "nbformat": 4,
 "nbformat_minor": 2
}
